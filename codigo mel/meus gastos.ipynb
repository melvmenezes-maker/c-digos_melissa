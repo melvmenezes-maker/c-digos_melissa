{
 "cells": [
  {
   "cell_type": "markdown",
   "id": "e0d8fec1",
   "metadata": {},
   "source": [
    "### CLT"
   ]
  },
  {
   "cell_type": "code",
   "execution_count": 1,
   "id": "62c035ec",
   "metadata": {},
   "outputs": [
    {
     "name": "stdout",
     "output_type": "stream",
     "text": [
      "voce ficara devendo -4070 \n"
     ]
    }
   ],
   "source": [
    "salario = 1200\n",
    "gasolina = 200\n",
    "internet = 200\n",
    "alimentação = 1500\n",
    "água = 100\n",
    "luz = 300\n",
    "condomínio = 570\n",
    "entretenimento = 1200\n",
    "total_gastos = (salario + gasolina + internet + alimentação + água + luz + condomínio + entretenimento)\n",
    "quanto_sobra = salario-total_gastos\n",
    "\n",
    "print(f\"voce ficara devendo {quanto_sobra} \")"
   ]
  },
  {
   "cell_type": "markdown",
   "id": "fa793f7f",
   "metadata": {},
   "source": [
    "### Meus gastos"
   ]
  },
  {
   "cell_type": "code",
   "execution_count": 2,
   "id": "a4bc8106",
   "metadata": {},
   "outputs": [
    {
     "name": "stdout",
     "output_type": "stream",
     "text": [
      "voce ficara devendo -2290\n"
     ]
    }
   ],
   "source": [
    "salario = 2100\n",
    "gasolina = 200\n",
    "internet = 100\n",
    "alimentação = 1500\n",
    "água = 50\n",
    "luz = 90\n",
    "entretenimento = 350\n",
    "total_gastos = salario + gasolina + internet + alimentação + água + luz + entretenimento\n",
    "quanto_sobra = salario-total_gastos\n",
    "\n",
    "print(f\"voce ficara devendo {quanto_sobra}\")"
   ]
  }
 ],
 "metadata": {
  "kernelspec": {
   "display_name": "Python 3",
   "language": "python",
   "name": "python3"
  },
  "language_info": {
   "codemirror_mode": {
    "name": "ipython",
    "version": 3
   },
   "file_extension": ".py",
   "mimetype": "text/x-python",
   "name": "python",
   "nbconvert_exporter": "python",
   "pygments_lexer": "ipython3",
   "version": "3.13.2"
  }
 },
 "nbformat": 4,
 "nbformat_minor": 5
}
